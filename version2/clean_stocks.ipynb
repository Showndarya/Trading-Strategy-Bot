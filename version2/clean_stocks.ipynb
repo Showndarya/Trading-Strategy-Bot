{
 "cells": [
  {
   "cell_type": "code",
   "execution_count": 58,
   "metadata": {},
   "outputs": [],
   "source": [
    "import csv\n",
    "import json"
   ]
  },
  {
   "cell_type": "code",
   "execution_count": 59,
   "metadata": {},
   "outputs": [],
   "source": [
    "from nltk.corpus import words, stopwords\n",
    "\n",
    "english_words = set(words.words())\n",
    "\n",
    "def is_english_word(word):\n",
    "    if word.lower() in english_words:\n",
    "        return True\n",
    "    return False\n",
    "\n",
    "\n",
    "stop_words = set(stopwords.words('english'))\n",
    "\n",
    "def is_stop_word(word):\n",
    "    if word.lower() in stop_words:\n",
    "        return True\n",
    "    return False"
   ]
  },
  {
   "cell_type": "code",
   "execution_count": 60,
   "metadata": {},
   "outputs": [
    {
     "name": "stdout",
     "output_type": "stream",
     "text": [
      "False\n",
      "True\n"
     ]
    }
   ],
   "source": [
    "print(is_english_word(\"HAS\"))\n",
    "print(is_stop_word(\"HAS\"))"
   ]
  },
  {
   "cell_type": "code",
   "execution_count": 61,
   "metadata": {},
   "outputs": [],
   "source": [
    "stocks_dict = {}\n",
    "stocks_exclude = ['NOV', 'IM']\n",
    "\n",
    "with open('Top 2000 Valued Companies with Ticker Symbols.csv', newline='') as file:\n",
    "    for i, line in enumerate(file):\n",
    "        cleaned_line = line.replace(',,', ',')\n",
    "\n",
    "        reader = csv.reader([cleaned_line], delimiter=',')\n",
    "        for row in reader:\n",
    "            if i != 0:\n",
    "                row[0] = row[0].replace('\\\"', '')\n",
    "                if row[0] == '' or row[1] == '':\n",
    "                    print(f\"Blank in data in line {i}\")\n",
    "                    break\n",
    "                if not is_english_word(row[1]) and not is_stop_word(row[1]) and row[1] not in stocks_exclude:\n",
    "                    stocks_dict[row[1]] = row[0] + ' (' + row[1] + ')'"
   ]
  },
  {
   "cell_type": "code",
   "execution_count": 62,
   "metadata": {},
   "outputs": [
    {
     "name": "stdout",
     "output_type": "stream",
     "text": [
      "1755\n"
     ]
    }
   ],
   "source": [
    "print(len(stocks_dict))"
   ]
  },
  {
   "cell_type": "code",
   "execution_count": 63,
   "metadata": {},
   "outputs": [],
   "source": [
    "with open('stocks.csv', 'w') as csv_file:\n",
    "    csv_writer = csv.writer(csv_file)\n",
    "    csv_writer.writerow(['Ticker', 'Company Name'])\n",
    "    for ticker, company in stocks_dict.items():\n",
    "        csv_writer.writerow([ticker, company])"
   ]
  },
  {
   "cell_type": "code",
   "execution_count": 64,
   "metadata": {},
   "outputs": [],
   "source": [
    "with open('stocks_data.json', 'w') as jsonfile:\n",
    "    json.dump(stocks_dict, jsonfile)"
   ]
  }
 ],
 "metadata": {
  "kernelspec": {
   "display_name": "Python 3",
   "language": "python",
   "name": "python3"
  },
  "language_info": {
   "codemirror_mode": {
    "name": "ipython",
    "version": 3
   },
   "file_extension": ".py",
   "mimetype": "text/x-python",
   "name": "python",
   "nbconvert_exporter": "python",
   "pygments_lexer": "ipython3",
   "version": "3.11.5"
  }
 },
 "nbformat": 4,
 "nbformat_minor": 2
}
